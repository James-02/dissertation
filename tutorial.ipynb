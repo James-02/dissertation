{
 "cells": [
  {
   "cell_type": "markdown",
   "id": "4f472087",
   "metadata": {},
   "source": [
    "# Reservoir Computing with Genetic Oscillators\n",
    "Here we will go through a full tutorial of using our genetic oscillator reservoir for classification and forecasting, as well as hyperparameter optimization."
   ]
  },
  {
   "cell_type": "markdown",
   "id": "1d97df15",
   "metadata": {},
   "source": [
    "## 1. Global Configuration\n"
   ]
  },
  {
   "cell_type": "markdown",
   "id": "5dd6ec72",
   "metadata": {},
   "source": [
    "## 1.1 Ensuring Reproducibility\n",
    "We must fix the random state of our system with a static seed to ensure reproducibility."
   ]
  },
  {
   "cell_type": "code",
   "execution_count": null,
   "id": "99ab7b04",
   "metadata": {
    "tags": [
     "parameters"
    ]
   },
   "outputs": [],
   "source": [
    "import numpy as np\n",
    "import reservoirpy as rpy\n",
    "\n",
    "# Define global seed for random state generators\n",
    "SEED = 1337\n",
    "\n",
    "# Set reservoirpy verbosity to 1 (enabled)\n",
    "VERBOSITY = 0\n",
    "\n",
    "# Fix our random state generators\n",
    "rpy.set_seed(SEED)\n",
    "np.random.seed(SEED)\n",
    "\n",
    "# set reservoirpy verbosity to 0 (OFF)\n",
    "rpy.verbosity(VERBOSITY)\n",
    "\n"
   ]
  },
  {
   "cell_type": "markdown",
   "id": "02fe9633",
   "metadata": {},
   "source": [
    "### 1.1 Initializing the Logger\n",
    "In `utils.logger` we have defined a custom `Logger` class which wraps the standard Python `logging` module to allow for parallel writes to stream and file whilst maintaing a single handler per type.\n",
    "\n",
    "Our Logger is important in ensuring that we keep track of the hyperparameters and metrics of our model."
   ]
  },
  {
   "cell_type": "code",
   "execution_count": 17,
   "id": "b8b0c7e2",
   "metadata": {},
   "outputs": [],
   "source": [
    "from utils.logger import Logger\n",
    "\n",
    "# Set our logging level to 1 (DEBUG)\n",
    "LOG_LEVEL = 1\n",
    "\n",
    "# Initialize our logger with a log file\n",
    "log_name = \"reservoir-computing-tutorial\"\n",
    "log_file = f\"logs/{log_name}.log\"\n",
    "logger = Logger(level=LOG_LEVEL, log_file=log_file)"
   ]
  },
  {
   "cell_type": "markdown",
   "id": "5f677c45",
   "metadata": {},
   "source": [
    "## 2. Loading the Classification Dataset\n",
    "\n",
    "We'll start by loading our ECG dataset using a function from our preprocessing module. This function allows us to specify various parameters:\n",
    "\n",
    "- `rows`: Specifies the number of instances to load. To maintain class balance, it's capped at 4015.\n",
    "- `test_ratio`: Determines the portion of the dataset allocated to the test subset. We'll use 0.2 to reserve 20% for testing.\n",
    "- `encode_labels`: Ensures that categorical labels are one-hot encoded, which is necessary for reservoirpy.\n",
    "- `binary`: Indicates whether to merge all arrhythmia classes into one for binary classification.\n",
    "\n",
    "Let's use these parameters to load our dataset:"
   ]
  },
  {
   "cell_type": "code",
   "execution_count": 16,
   "id": "181ffff2",
   "metadata": {},
   "outputs": [
    {
     "name": "stderr",
     "output_type": "stream",
     "text": [
      "2024-04-22 00:03:41 - [INFO] - Loading ECG Dataset\n",
      "2024-04-22 00:03:41 - [DEBUG] - Loading preprocessed dataset from: data/ecg/ecg_data.npz\n",
      "2024-04-22 00:03:41 - [DEBUG] - Normalizing inputs\n",
      "2024-04-22 00:03:41 - [DEBUG] - Balancing classes\n",
      "2024-04-22 00:03:41 - [DEBUG] - Limiting instances to 4015 rows\n",
      "2024-04-22 00:03:41 - [DEBUG] - Splitting dataset into training and testing sets\n",
      "2024-04-22 00:03:41 - [DEBUG] - Train:Test dataset ratio: [80:20]\n",
      "2024-04-22 00:03:41 - [DEBUG] - One-hot encoding labels.\n",
      "2024-04-22 00:03:41 - [DEBUG] - Reshaping data into time-series.\n",
      "2024-04-22 00:03:41 - [DEBUG] - ----- Dataset Parameters -----\n",
      "2024-04-22 00:03:41 - [DEBUG] - instances: 4015\n",
      "2024-04-22 00:03:41 - [DEBUG] - encode_labels: True\n",
      "2024-04-22 00:03:41 - [DEBUG] - repeat_targets: False\n",
      "2024-04-22 00:03:41 - [DEBUG] - normalize: True\n",
      "2024-04-22 00:03:41 - [DEBUG] - test_ratio: 0.2\n",
      "2024-04-22 00:03:41 - [DEBUG] - shuffle: True\n",
      "2024-04-22 00:03:41 - [DEBUG] - binary: False\n",
      "2024-04-22 00:03:41 - [DEBUG] - train_instances: 3215\n",
      "2024-04-22 00:03:41 - [DEBUG] - test_instances: 800\n",
      "2024-04-22 00:03:41 - [DEBUG] - train_shapes: ((187, 1), (1, 5))\n",
      "2024-04-22 00:03:41 - [DEBUG] - test_shapes: ((187, 1), (1, 5))\n",
      "2024-04-22 00:03:41 - [DEBUG] - train_labels: {0: 643, 1: 643, 2: 643, 3: 643, 4: 643}\n",
      "2024-04-22 00:03:41 - [DEBUG] - test_labels: {0: 160, 1: 160, 2: 160, 3: 160, 4: 160}\n",
      "2024-04-22 00:03:41 - [DEBUG] - --------------------------------\n"
     ]
    }
   ],
   "source": [
    "from utils.preprocessing import load_ecg_data\n",
    "\n",
    "instances = 4015\n",
    "encode_labels = True\n",
    "binary = False\n",
    "test_ratio = 0.2\n",
    "\n",
    "X_train, Y_train, X_test, Y_test = load_ecg_data(\n",
    "    rows=instances,\n",
    "    test_ratio=test_ratio,\n",
    "    encode_labels=encode_labels,\n",
    "    binary=binary)"
   ]
  },
  {
   "cell_type": "markdown",
   "id": "6386f27d",
   "metadata": {},
   "source": [
    "## 3. Visualising our dataset\n",
    "\n",
    "In this section, we visualize an electrocardiogram (ECG) waveform along with a sampled segment from it.\n",
    "\n",
    "We first load the ECG data for forecasting using a function from our `utils.preprocessing` module. We specify the number of timesteps as `2000`. The function returns the ECG data in `X_forecast`.\n"
   ]
  },
  {
   "cell_type": "markdown",
   "id": "ba178e07",
   "metadata": {},
   "source": [
    "### 3.1 Loading a Full ECG Signal\n",
    "Here we load an ECG signal of 2000 timesteps from our forecasting dataset, for classification we use 187 timestep segments from this dataset, as we will visualise."
   ]
  },
  {
   "cell_type": "code",
   "execution_count": null,
   "id": "3965f3d3",
   "metadata": {},
   "outputs": [],
   "source": [
    "from utils.preprocessing import load_ecg_forecast\n",
    "\n",
    "timesteps = 2000\n",
    "\n",
    "# Load only the X_train subset as we just want to visualise the data\n",
    "X_forecast, _, _, _ = load_ecg_forecast(timesteps=timesteps)\n",
    "\n",
    "logger.debug(\"Forecasting Data Shape: \", X_forecast.shape)"
   ]
  },
  {
   "cell_type": "markdown",
   "id": "83e27291",
   "metadata": {},
   "source": [
    "### 3.2 Visualising an ECG\n",
    "Next, we plot our ECG signal over the time in (ms), we can calculate the timespan using the sampling frequency of 125Hz.\n",
    "\n",
    "We also draw a box around a 187 timestep segment of this ECG signal, representing a single instance of our classification dataset."
   ]
  },
  {
   "cell_type": "code",
   "execution_count": null,
   "id": "6225b645",
   "metadata": {},
   "outputs": [],
   "source": [
    "\n",
    "import matplotlib.pyplot as plt\n",
    "\n",
    "sampling_freq = 125\n",
    "num_samples = len(X_forecast)\n",
    "time_ms = np.arange(num_samples) / sampling_freq * 1000\n",
    "\n",
    "# Plot the ECG waveform\n",
    "plt.figure(figsize=(14, 8))\n",
    "plt.plot(time_ms, X_forecast, label='ECG waveform')\n",
    "\n",
    "# Calculate box width in ms\n",
    "box_width = 187 * 1000 / sampling_freq\n",
    "start_x = 4500\n",
    "\n",
    "# Plot the box\n",
    "plt.plot([start_x, start_x + box_width], [min(X_forecast), min(X_forecast)], linestyle=':', color='red', label=\"Sampled Segment\")\n",
    "plt.plot([start_x, start_x + box_width], [max(X_forecast), max(X_forecast)], linestyle=':', color='red')\n",
    "plt.plot([start_x, start_x], [min(X_forecast), max(X_forecast)], linestyle=':', color='red')\n",
    "plt.plot([start_x + box_width, start_x + box_width], [min(X_forecast), max(X_forecast)], linestyle=':', color='red')\n",
    "\n",
    "plt.xlabel('Time (ms)')\n",
    "plt.ylabel('Voltage (mV)')\n",
    "plt.legend()\n",
    "plt.show()"
   ]
  },
  {
   "cell_type": "markdown",
   "id": "04009736",
   "metadata": {},
   "source": [
    "## 4. Visualising Genetic Oscillators\n",
    "In order to understand how our reservoir will operate, we can use a sine wave to test the forward function of a single Oscillator node."
   ]
  },
  {
   "cell_type": "markdown",
   "id": "f2f944a1",
   "metadata": {},
   "source": [
    "### 4.1 Collecting Oscillator States\n",
    "We can simulate the behaviour of gene expression using our Oscillator node by feeding in a continuous input of a sine wave over a period of 1000 timesteps.\n",
    "\n",
    "For each call of the Oscillator's `forward` function, we receive an array of system states of shape (1, 4), where we have a single state for each variable in the system (A, I, Hi, He).\n",
    "\n",
    "We can collect these states over the time series to understand the influence of our input to the system."
   ]
  },
  {
   "cell_type": "code",
   "execution_count": 14,
   "id": "0cb18c84",
   "metadata": {},
   "outputs": [],
   "source": [
    "from reservoir.node import Oscillator\n",
    "\n",
    "timesteps = 1000\n",
    "coupling = 1e-5\n",
    "\n",
    "timespan = np.linspace(0, timesteps, timesteps)\n",
    "sine_wave = np.sin(timespan)\n",
    "oscillator = Oscillator(timesteps=timesteps, delay=10, initial_values=[0, 100, 0, 0])\n",
    "\n",
    "states = []\n",
    "for i in range(timesteps):\n",
    "    states.append(oscillator.forward(sine_wave[i] * coupling))\n",
    "\n",
    "states = np.array(states)"
   ]
  },
  {
   "cell_type": "markdown",
   "id": "9f671bab",
   "metadata": {},
   "source": [
    "### 4.2 Visualising Genetic Oscillator States\n",
    "We can now visualise the states of the coupled genes (A, I), as well as the internal and external signals (Hi, He) over the time period.\n",
    "\n",
    "We can see the synchronized coupled oscillations by genes A and I, where the delayed He signal drives the production of the I gene promoter."
   ]
  },
  {
   "cell_type": "code",
   "execution_count": 15,
   "id": "5b414953",
   "metadata": {},
   "outputs": [
    {
     "name": "stdout",
     "output_type": "stream",
     "text": [
      "Oscillator States Shape:  (1000, 4)\n",
      "(1000, 4)\n"
     ]
    },
    {
     "data": {
      "image/png": "[encoded data removed]",
      "text/plain": [
       "<Figure size 1000x600 with 1 Axes>"
      ]
     },
     "metadata": {},
     "output_type": "display_data"
    }
   ],
   "source": [
    "from utils.visualisation import plot_states\n",
    "\n",
    "logger.debug(\"Oscillator States Shape: \", states.shape)\n",
    "plot_states(states, labels=[\"A\", \"I\", \"Hi\", \"He\"], ylabel=\"Concentration\", title=\"\", legend=True, show=True)"
   ]
  },
  {
   "cell_type": "markdown",
   "id": "296103a4",
   "metadata": {},
   "source": [
    "## 5. Constructing an Echo State Network\n",
    "Here we will initialize our reservoir and readout nodes, two key layers within an echo-state network, the final layer is the input layer, however we will be omitting the use of a physical input node for our model as we feed the input to the reservoir by hand."
   ]
  },
  {
   "cell_type": "markdown",
   "id": "27a4da80",
   "metadata": {},
   "source": [
    "### 5.1 Initializing the Reservoir\n",
    "To initialize our reservoir we must supply a range of important hyperparameters:\n",
    "- `timesteps` the timespan of each data instance, allows the Oscillator nodes to know when to reset their internal history.\n",
    "- `nodes` the number of Oscillator nodes within the reservoir.\n",
    "- `delay` the time delay of the external He signal within the genetic oscillators.\n",
    "- `initial_conditions` the intial concentrations of each molecule in the genetic oscillators (A, I, Hi, He)\n",
    "\n",
    "Note, there are further hyper-parameters of the reservoir but for now we will focus on these as they are integral to our system producing oscillations."
   ]
  },
  {
   "cell_type": "code",
   "execution_count": null,
   "id": "9871c89f",
   "metadata": {},
   "outputs": [],
   "source": [
    "from reservoir.reservoir import OscillatorReservoir\n",
    "\n",
    "timesteps = X_train[0].shape[0]\n",
    "logger.debug(\"Timesteps: \", timesteps)\n",
    "\n",
    "nodes = 50\n",
    "delay = 10\n",
    "initial_conditions = [0, 100, 0, 0]\n",
    "\n",
    "reservoir = OscillatorReservoir(\n",
    "    units=nodes,\n",
    "    timesteps=timesteps,\n",
    "    delay=delay,\n",
    "    initial_values=initial_conditions,\n",
    "    seed=SEED)\n",
    "\n",
    "logger.debug(\"Reservoir Hyperparameters: \", reservoir.hypers)"
   ]
  },
  {
   "cell_type": "markdown",
   "id": "54c3e9c9",
   "metadata": {},
   "source": [
    "### 5.2 Initializing our Readout Node\n",
    "We will be using a reservoirpy `Ridge` node as our readout node which employs a layer of `N` neurons, where `N` is the number of classes in our task, each Ridge neuron uses regularized Tikhonov linear regression to perform learning."
   ]
  },
  {
   "cell_type": "code",
   "execution_count": null,
   "id": "1940ec99",
   "metadata": {},
   "outputs": [],
   "source": [
    "from reservoirpy.nodes import Ridge\n",
    "\n",
    "ridge = 1e-5\n",
    "readout = Ridge(ridge=1e-5)\n",
    "\n",
    "logger.debug(\"Ridge Hyperparameters: \", readout.hypers)"
   ]
  },
  {
   "cell_type": "markdown",
   "id": "b4e3c280",
   "metadata": {},
   "source": [
    "### 5.3 Visualising Reservoir States\n",
    "We can visualise the activation of our reservoir by plotting the states produced by our reservoir for the timeseries of a single instance of data.\n",
    "Here we can understand how our network of genetic oscillators perform in unison."
   ]
  },
  {
   "cell_type": "code",
   "execution_count": null,
   "id": "07af6bd3",
   "metadata": {},
   "outputs": [],
   "source": [
    "\n",
    "states = reservoir.run(X_train[0])\n",
    "logger.debug(\"Reservoir States Shape: \", states.shape)\n",
    "\n",
    "plot_states(states, legend=False)  # disable legend to not pollute the figure with node labels"
   ]
  },
  {
   "cell_type": "markdown",
   "id": "2a4b4371",
   "metadata": {},
   "source": [
    "## 6. Analysing our Classification Dataset\n",
    "In this section, we visualize various aspects of our dataset using functions from the `utils.visualisation` module."
   ]
  },
  {
   "cell_type": "markdown",
   "id": "0681f49c",
   "metadata": {},
   "source": [
    "### 6.1 Concatenating Training and Test Subsets\n",
    "\n",
    "Before visualization, we concatenate the training and test subsets of our dataset into a single dataset, `X` and `Y`."
   ]
  },
  {
   "cell_type": "code",
   "execution_count": null,
   "id": "4346a5b2",
   "metadata": {},
   "outputs": [],
   "source": [
    "# concatenate the training and test subsets into one\n",
    "X = np.concatenate((X_train, X_test), axis=0)\n",
    "Y = np.concatenate((Y_train, Y_test), axis=0)"
   ]
  },
  {
   "cell_type": "markdown",
   "id": "13cf12c2",
   "metadata": {},
   "source": [
    "### 6.2 Plotting Dataset Information\n",
    "We use the `plot_data_distribution` function to visualize the distribution of classes in our dataset and save the plot as \"data-distribution.png\"."
   ]
  },
  {
   "cell_type": "code",
   "execution_count": null,
   "id": "8c4e7633",
   "metadata": {},
   "outputs": [],
   "source": [
    "from utils.visualisation import plot_data_distribution\n",
    "\n",
    "plot_data_distribution(Y, filename=\"data-distribution.png\", show=True)"
   ]
  },
  {
   "cell_type": "markdown",
   "id": "67533bc2",
   "metadata": {},
   "source": [
    "Next, we use the plot_dataset_info function to visualize various statistics and information about our dataset, such as the number of instances per class, mean, and standard deviation."
   ]
  },
  {
   "cell_type": "code",
   "execution_count": null,
   "id": "1071e26b",
   "metadata": {},
   "outputs": [],
   "source": [
    "from utils.visualisation import plot_dataset_info\n",
    "\n",
    "plot_dataset_info(X_train, Y_train, X_test, Y_test, filename=\"dataset-info.png\", show=True)"
   ]
  },
  {
   "cell_type": "markdown",
   "id": "fc98d181",
   "metadata": {},
   "source": [
    "### 6.3 Plotting Standard Deviation and Mean Across Classes\n",
    "We further visualize the class standard deviation, and class mean using the corresponding functions."
   ]
  },
  {
   "cell_type": "code",
   "execution_count": null,
   "id": "974f78f9",
   "metadata": {},
   "outputs": [],
   "source": [
    "from utils.visualisation import plot_class_std\n",
    "from utils.visualisation import plot_class_mean\n",
    "\n",
    "plot_class_std(X, Y, filename=\"std.png\", show=True)\n",
    "plot_class_mean(X, Y, filename=\"means.png\", show=True)"
   ]
  },
  {
   "cell_type": "markdown",
   "id": "1f11589c",
   "metadata": {},
   "source": [
    "### 6.4 Visualising Class Averages\n",
    "Next, we can visualise the average of each class with a single representative waveform which represents the mean of each time point within each class."
   ]
  },
  {
   "cell_type": "code",
   "execution_count": null,
   "id": "4e9209d1",
   "metadata": {},
   "outputs": [],
   "source": [
    "from utils.visualisation import plot_average_instance\n",
    "\n",
    "plot_average_instance(X, Y, filename=\"average-instance\", show=True)"
   ]
  },
  {
   "cell_type": "markdown",
   "id": "8ae00b42",
   "metadata": {},
   "source": [
    "## 7. Classification\n",
    "\n",
    "With our classification dataset loaded and our echo state network (ESN) layers constructed, we're ready to perform classification.\n",
    "\n",
    "Performing classification using our genetic oscillator reservoir is computationally intensive due to the amount of computation required to solve our system of delay differential equations, particularly because the reservoir forward function needs to run for each time step of each instance for every node in the reservoir.\n",
    "\n",
    "- For instance, using a reservoir of 50 nodes and 1000 instances, the training process may take approximately 1 hour."
   ]
  },
  {
   "cell_type": "markdown",
   "id": "c29e2ebd",
   "metadata": {},
   "source": [
    "### 7.1 Multi-processed K-Fold Cross Validation\n",
    "\n",
    "To ensure robustness and efficiency, we utilize cross-validation to average our model performance metrics over k-folds. Additionally, we leverage multi-processing, allocating each fold to a new CPU core. This setup allows each fold to run independently with its copies of the reservoir and readout nodes."
   ]
  },
  {
   "cell_type": "code",
   "execution_count": null,
   "id": "02dd71d5",
   "metadata": {},
   "outputs": [],
   "source": [
    "# tag to indicate if file contains binary classification metrics\n",
    "binary_tag = \"-binary\" if binary else \"\"\n",
    "\n",
    "# filename to save classification metrics to\n",
    "filename = f\"results/runs/{reservoir.name}-{nodes}-{len(X_train)}{binary_tag}\""
   ]
  },
  {
   "cell_type": "code",
   "execution_count": null,
   "id": "432ec731",
   "metadata": {},
   "outputs": [],
   "source": [
    "from utils.classification import classify\n",
    "\n",
    "folds = 5\n",
    "\n",
    "# perform classification\n",
    "metrics = classify(reservoir, readout, X_train, Y_train, X_test, Y_test, folds=folds, save_file=filename)\n"
   ]
  },
  {
   "cell_type": "markdown",
   "id": "ecbaf1fa",
   "metadata": {},
   "source": [
    "# 8. Plotting Performance Metrics\n",
    "Once classification is complete, we can plot the resulting metrics to understand how our model performed."
   ]
  },
  {
   "cell_type": "markdown",
   "id": "63532a64",
   "metadata": {},
   "source": [
    "We load the data which the `classify` function has just saved to our local `results/runs` directory which contains the performance metrics, model hyperparameters, and predicted labels."
   ]
  },
  {
   "cell_type": "code",
   "execution_count": null,
   "id": "7ee1486d",
   "metadata": {},
   "outputs": [],
   "source": [
    "from utils.preprocessing import load_npz\n",
    "\n",
    "folds_data = []\n",
    "\n",
    "for fold in range(folds):\n",
    "    fold_filename = filename + f\"-fold-{str(fold)}.npz\"\n",
    "    fold_data = load_npz(fold_filename, allow_pickle=True)\n",
    "\n",
    "    if fold_data is None:\n",
    "        logger.error(f\"Fold data does not exist at: {fold_filename}\")\n",
    "    else:\n",
    "        folds_data.append(fold_data)"
   ]
  },
  {
   "cell_type": "markdown",
   "id": "0350fcba",
   "metadata": {},
   "source": [
    "### 8.1 Plotting Deviation Between Folds\n",
    "We can plot the difference of the metrics per fold, visualising how shuffling the dataset effects the model.\n",
    "    - We should see high-similarity between folds which indicates that our model has not overfitted."
   ]
  },
  {
   "cell_type": "code",
   "execution_count": null,
   "id": "e3d2107e",
   "metadata": {},
   "outputs": [],
   "source": [
    "from utils.visualisation import plot_metrics_across_folds\n",
    "\n",
    "folds_metrics = []\n",
    "\n",
    "for fold in folds:\n",
    "    metrics = fold_data[fold]['metrics'].item()\n",
    "    folds_metrics.append(metrics)\n",
    "\n",
    "plot_metrics_across_folds(folds_metrics)"
   ]
  },
  {
   "cell_type": "markdown",
   "id": "e6935945",
   "metadata": {},
   "source": [
    "### 8.2 Compute Mean Metrics Across Folds\n",
    "Finally, we can plot the metrics of our classification task, using the mean of each metric across the cross validation folds.\n",
    "\n",
    "But first we need to find the mean of the metrics across the folds using our `folds_metrics` list."
   ]
  },
  {
   "cell_type": "code",
   "execution_count": null,
   "id": "551f3a24",
   "metadata": {},
   "outputs": [],
   "source": [
    "from utils.analysis import compute_mean_metrics\n",
    "\n",
    "metrics = compute_mean_metrics(folds_metrics)\n",
    "logger.debug(metrics)"
   ]
  },
  {
   "cell_type": "markdown",
   "id": "b6e1e756",
   "metadata": {},
   "source": [
    "### 8.3 Plotting Metrics By Class\n",
    "Next, we can plot the precision, recall, and F1 score of each class, indicating the model's ability to predict each class individually."
   ]
  },
  {
   "cell_type": "code",
   "execution_count": null,
   "id": "61dbad7b",
   "metadata": {},
   "outputs": [],
   "source": [
    "from utils.visualisation import plot_class_metrics\n",
    "\n",
    "plot_class_metrics(metrics['class_metrics'])"
   ]
  },
  {
   "cell_type": "markdown",
   "id": "b4826f0b",
   "metadata": {},
   "source": [
    "### 8.4 Plotting Confusion Matrix\n",
    "We can also plot the confusion matrix, which visualises the true labels against the model's predictions:"
   ]
  },
  {
   "cell_type": "code",
   "execution_count": null,
   "id": "c7c494f1",
   "metadata": {},
   "outputs": [],
   "source": [
    "from utils.visualisation import plot_confusion_matrix\n",
    "\n",
    "plot_confusion_matrix(metrics['confusion_matrix'])"
   ]
  },
  {
   "cell_type": "markdown",
   "id": "c49a2ae1",
   "metadata": {},
   "source": [
    "### 8.5 Plotting Clustering of Predictions\n",
    "Finally, we can plot the t-SNE clustering of our model's predictions which visualises the underlying non-linear relationships between predictions by class."
   ]
  },
  {
   "cell_type": "code",
   "execution_count": null,
   "id": "88f0f7fa",
   "metadata": {},
   "outputs": [],
   "source": [
    "from utils.visualisation import plot_tsne_clustering\n",
    "import numpy as np\n",
    "\n",
    "# concatenate the predictions across the folds\n",
    "Y_pred = []\n",
    "for fold in range(folds):\n",
    "    Y_pred.append(folds_data[fold]['Y_pred'])\n",
    "\n",
    "Y_pred = np.concatenate(Y_pred)\n",
    "\n",
    "plot_tsne_clustering(Y_pred, show=True)"
   ]
  },
  {
   "cell_type": "markdown",
   "id": "1596460d",
   "metadata": {},
   "source": [
    "## 9. Forecasting\n",
    "Forecasting is performed significantly differently, and therefore we must redefine our model hyperparameters here, and load our forecasting dataset."
   ]
  },
  {
   "cell_type": "code",
   "execution_count": null,
   "id": "e99dac6d",
   "metadata": {},
   "outputs": [],
   "source": [
    "from utils.visualisation import plot_forecast_results, plot_forecast_data\n",
    "\n",
    "# Forecating requires significantly different hyperparameters to classification, therefore we must redefine our data and model\n",
    "\n",
    "timesteps = 2510\n",
    "forecast_steps = 1\n",
    "test_ratio = 0.2\n",
    "\n",
    "# load forecasting dataset, where the test set is \"forecast\" timesteps ahead of the training test set\n",
    "X_train, Y_train, X_test, Y_test = load_ecg_forecast(\n",
    "    timesteps=timesteps, \n",
    "    forecast=forecast_steps, \n",
    "    test_ratio=test_ratio)\n",
    "\n",
    "\n",
    "timesteps = X_train[0].shape[0]\n",
    "nodes = 50\n",
    "delay = 1\n",
    "initial_conditions = [500, 500, 0, 0]\n",
    "rc_scaling = 1e-5\n",
    "coupling = 1e-3\n",
    "input_connectivity = 1.0\n",
    "rc_connectivity = 1.0\n",
    "\n",
    "reservoir = OscillatorReservoir(\n",
    "    units=nodes,\n",
    "    timesteps=timesteps,\n",
    "    delay=delay,\n",
    "    initial_values=initial_conditions,\n",
    "    coupling=coupling,\n",
    "    rc_scaling=rc_scaling,\n",
    "    input_connectivity=input_connectivity,\n",
    "    rc_connectivity=rc_connectivity,\n",
    "    seed=SEED)\n",
    "\n",
    "ridge = 1e-7\n",
    "readout = Ridge(ridge=ridge)\n",
    "\n",
    "plot_forecast_data(X_train, Y_train, X_test, Y_test)\n",
    "\n",
    "esn = reservoir >> readout\n",
    "# Fit ESN and train\n",
    "esn.fit(X_train, Y_train)\n",
    "Y_pred = esn.run(X_test)\n",
    "\n",
    "mse = np.mean((Y_test - Y_pred) ** 2)\n",
    "rmse = np.sqrt(mse)\n",
    "\n",
    "plot_forecast_results(Y_pred, Y_test)"
   ]
  }
 ],
 "metadata": {
  "kernelspec": {
   "display_name": "Python 3",
   "language": "python",
   "name": "python3"
  },
  "language_info": {
   "codemirror_mode": {
    "name": "ipython",
    "version": 3
   },
   "file_extension": ".py",
   "mimetype": "text/x-python",
   "name": "python",
   "nbconvert_exporter": "python",
   "pygments_lexer": "ipython3",
   "version": "3.10.12"
  }
 },
 "nbformat": 4,
 "nbformat_minor": 5
}
